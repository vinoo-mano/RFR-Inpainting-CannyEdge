{
 "cells": [
  {
   "cell_type": "code",
   "execution_count": 1,
   "id": "c540d835-7cbd-4582-a6e9-9a2cedfea119",
   "metadata": {},
   "outputs": [
    {
     "name": "stdout",
     "output_type": "stream",
     "text": [
      "/home/jupyter/RFR-Inpainting-2\n"
     ]
    }
   ],
   "source": [
    "!pwd"
   ]
  },
  {
   "cell_type": "code",
   "execution_count": null,
   "id": "550f0d5d-183e-49a1-b3be-8e5c4b0bc492",
   "metadata": {},
   "outputs": [],
   "source": []
  },
  {
   "cell_type": "code",
   "execution_count": 2,
   "id": "be4c5c5f-1f67-4c68-8367-7e62050fab6f",
   "metadata": {},
   "outputs": [
    {
     "name": "stdout",
     "output_type": "stream",
     "text": [
      "Cloning into 'RFR-Inpainting'...\n",
      "remote: Enumerating objects: 127, done.\u001b[K\n",
      "remote: Counting objects: 100% (44/44), done.\u001b[K\n",
      "remote: Compressing objects: 100% (13/13), done.\u001b[K\n",
      "remote: Total 127 (delta 33), reused 31 (delta 31), pack-reused 83\u001b[K\n",
      "Receiving objects: 100% (127/127), 7.76 MiB | 28.70 MiB/s, done.\n",
      "Resolving deltas: 100% (61/61), done.\n"
     ]
    }
   ],
   "source": [
    "!git clone https://github.com/jingyuanli001/RFR-Inpainting.git"
   ]
  },
  {
   "cell_type": "code",
   "execution_count": null,
   "id": "7d2e1044-d5ff-4112-8cf3-e94683cd473f",
   "metadata": {},
   "outputs": [],
   "source": [
    "python run.py --data_root /home/jupyter/RFR-Inpainting/places2/train_256_places365standard/data_256 --model_save_path /home/jupyter/RFR-Inpainting/checkpoint --result_save_path /home/jupyter/RFR-Inpainting/checkpoint  --batch_size 6 --n_threads 4 --resume RFR-Inpainting/checkpoint/checkpoint_paris.pth --num_iters 2500 --gpu_id -1 --model_path RFR-Inpainting/checkpoint/checkpoint_paris.pth"
   ]
  },
  {
   "cell_type": "code",
   "execution_count": 30,
   "id": "7239acbb-2889-4cf4-9236-67ab9a9f2718",
   "metadata": {},
   "outputs": [
    {
     "name": "stdout",
     "output_type": "stream",
     "text": [
      "/home/jupyter\n"
     ]
    }
   ],
   "source": [
    "%cd ~"
   ]
  },
  {
   "cell_type": "code",
   "execution_count": 31,
   "id": "10bea80d-d83b-4dc0-9f43-c9278a902723",
   "metadata": {},
   "outputs": [
    {
     "name": "stdout",
     "output_type": "stream",
     "text": [
      "/home/jupyter/RFR-Inpainting-2/RFR-Inpainting\n",
      "/home/jupyter/RFR-Inpainting-2/RFR-Inpainting\n"
     ]
    }
   ],
   "source": [
    "%cd RFR-Inpainting-2/RFR-Inpainting\n",
    "!pwd"
   ]
  },
  {
   "cell_type": "code",
   "execution_count": 23,
   "id": "5c2f8f6f-80e0-4ffe-a316-9cafaec02b45",
   "metadata": {},
   "outputs": [
    {
     "name": "stdout",
     "output_type": "stream",
     "text": [
      "/home/jupyter/RFR-Inpainting/checkpoint\n",
      "/home/jupyter/RFR-Inpainting/checkpoint\n"
     ]
    }
   ],
   "source": [
    "%cd ../../RFR-Inpainting/checkpoint\n",
    "!pwd"
   ]
  },
  {
   "cell_type": "code",
   "execution_count": 25,
   "id": "4e911b51-15d7-4032-8f60-23141c9553ae",
   "metadata": {},
   "outputs": [
    {
     "name": "stdout",
     "output_type": "stream",
     "text": [
      "checkpoint_paris.pth  g_100.pth  untitled.txt\n"
     ]
    }
   ],
   "source": [
    "!ls"
   ]
  },
  {
   "cell_type": "code",
   "execution_count": 26,
   "id": "f49e60cd-7f65-4a3c-9398-74397617b90a",
   "metadata": {},
   "outputs": [
    {
     "name": "stdout",
     "output_type": "stream",
     "text": [
      "checkpoint_paris.pth  g_100.pth  untitled.txt\n"
     ]
    }
   ],
   "source": [
    "ls"
   ]
  },
  {
   "cell_type": "code",
   "execution_count": 1,
   "id": "1b85b67b-9a10-4744-bc1b-3b480199ee39",
   "metadata": {},
   "outputs": [],
   "source": [
    "#HOW TO RUN\n",
    "#python run.py --data_root /home/jupyter/RFR-Inpainting/places2/train_256_places365standard/data_256 --model_save_path /home/jupyter/RFR-Inpainting/checkpoint --result_save_path /home/jupyter/RFR-Inpainting-2/checkpoint  --batch_size 6 --n_threads 4 --resume RFR-Inpainting-2/checkpoint/checkpoint_paris.pth --num_iters 2500 --gpu_id -1 --model_path RFR-Inpainting-2/checkpoint/checkpoint_paris.pth"
   ]
  },
  {
   "cell_type": "code",
   "execution_count": null,
   "id": "296088b0-6213-4376-9707-b5403d068ed7",
   "metadata": {},
   "outputs": [],
   "source": []
  }
 ],
 "metadata": {
  "environment": {
   "kernel": "python3",
   "name": "tf2-cpu.2-10.m104",
   "type": "gcloud",
   "uri": "gcr.io/deeplearning-platform-release/tf2-cpu.2-10:m104"
  },
  "kernelspec": {
   "display_name": "Python 3 (ipykernel)",
   "language": "python",
   "name": "python3"
  },
  "language_info": {
   "codemirror_mode": {
    "name": "ipython",
    "version": 3
   },
   "file_extension": ".py",
   "mimetype": "text/x-python",
   "name": "python",
   "nbconvert_exporter": "python",
   "pygments_lexer": "ipython3",
   "version": "3.7.12"
  }
 },
 "nbformat": 4,
 "nbformat_minor": 5
}
